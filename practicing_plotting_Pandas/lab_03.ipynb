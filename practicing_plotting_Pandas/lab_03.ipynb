{
 "cells": [
  {
   "cell_type": "code",
   "execution_count": 4,
   "metadata": {},
   "outputs": [
    {
     "name": "stdout",
     "output_type": "stream",
     "text": [
      "Collecting pysal\n",
      "  Using cached https://files.pythonhosted.org/packages/68/04/e9a456867aa2686186f7d1d1fd3c9598ac27a92d08063afa236a1f1fd7e2/pysal-2.2.0.tar.gz\n",
      "Collecting libpysal>=4.2.2 (from pysal)\n",
      "  Using cached https://files.pythonhosted.org/packages/6f/00/bf40b380e9064222868c93ed51d81dd14b1266b16dd5a54e53aaed12caf2/libpysal-4.2.2.tar.gz\n",
      "Collecting esda>=2.2.1 (from pysal)\n",
      "  Using cached https://files.pythonhosted.org/packages/16/f1/c2190bc3a7ef9c83ce0b060b927763352bfc0a55ccea8bb5fcd8975de347/esda-2.2.1.tar.gz\n",
      "Collecting giddy>=2.3.0 (from pysal)\n",
      "  Using cached https://files.pythonhosted.org/packages/6e/96/c9cac4d3a00dbe682a4031e3775cb7941f35ac9918efc481d4da7a89966d/giddy-2.3.0.tar.gz\n",
      "Collecting inequality>=1.0.0 (from pysal)\n",
      "  Using cached https://files.pythonhosted.org/packages/74/0f/9ed2d097f29160d0c873f33ffc0b9806c1083e3611acb2143eb66adcf580/inequality-1.0.0.tar.gz\n",
      "Collecting pointpats>=2.1.0 (from pysal)\n",
      "  Using cached https://files.pythonhosted.org/packages/57/29/51bf19dc4452c1429f15335574642bfd5cb672ddbacf8a95c69967ff84b1/pointpats-2.1.0.tar.gz\n",
      "Collecting segregation>=1.2.0 (from pysal)\n",
      "  Using cached https://files.pythonhosted.org/packages/4d/69/288da08dde201dc250d6dadf6a9ad035e1a5d8b3bdc20b71c2874482d488/segregation-1.2.0-py3-none-any.whl\n",
      "Collecting spaghetti>=1.4.1 (from pysal)\n",
      "  Using cached https://files.pythonhosted.org/packages/b8/52/700971b94b37193cfb86fe804541d7ed78015a72275cfb4c8c499bfe6b2b/spaghetti-1.4.2.post2-py3-none-any.whl\n",
      "Collecting mgwr>=2.1.1 (from pysal)\n",
      "  Using cached https://files.pythonhosted.org/packages/21/38/978bd3f72f5376866d37b9155ea67fad9f0bace4e274569b9e0a19df6c4d/mgwr-2.1.1-py3-none-any.whl\n",
      "Collecting spglm>=1.0.7 (from pysal)\n",
      "  Using cached https://files.pythonhosted.org/packages/97/45/5cacaa01f2084162976ab6519a5b13db881363592b400d5c91f1c6abc969/spglm-1.0.7.tar.gz\n",
      "Collecting spint>=1.0.6 (from pysal)\n",
      "  Using cached https://files.pythonhosted.org/packages/68/ed/39822aec1aedd46a2c9eb044e36ab9841f745b3a975074fcce13f58107b9/spint-1.0.6-py3-none-any.whl\n",
      "Collecting spreg>=1.0.4 (from pysal)\n",
      "  Using cached https://files.pythonhosted.org/packages/e9/70/30c5685900505b43444b6c9230eb06f082ea3ec456a5bb7e00e00cef306a/spreg-1.1.1-py3-none-any.whl\n",
      "Collecting spvcm>=0.3.0 (from pysal)\n",
      "  Using cached https://files.pythonhosted.org/packages/b4/c9/43fb98bc60728b76fceee175119a1ff7e5033ed9012d07570e34a2a19a8f/spvcm-0.3.0.tar.gz\n",
      "Collecting tobler>=0.2.0 (from pysal)\n",
      "  Using cached https://files.pythonhosted.org/packages/95/08/7aaf484e24a1c822f286f6f805b9ae565dfd39b9b4e27835cf6684791a20/tobler-0.2.2-py3-none-any.whl\n",
      "Collecting mapclassify>=2.2.0 (from pysal)\n",
      "  Using cached https://files.pythonhosted.org/packages/91/b5/6b54f40901d89f2ce30cf2d8110dd57658db3e95db79baba6706d7588691/mapclassify-2.2.0.tar.gz\n",
      "Collecting splot>=1.1.2 (from pysal)\n",
      "  Using cached https://files.pythonhosted.org/packages/39/39/de3f3ebcf254b337385c746bfabd17966d0a48a13ac9b7e28389d7542f4e/splot-1.1.2.tar.gz\n",
      "Collecting urllib3<1.25 (from pysal)\n",
      "  Using cached https://files.pythonhosted.org/packages/01/11/525b02e4acc0c747de8b6ccdab376331597c569c42ea66ab0a1dbd36eca2/urllib3-1.24.3-py2.py3-none-any.whl\n",
      "Requirement already satisfied: python-dateutil<=2.8.0 in /snap/jupyter/6/lib/python3.7/site-packages (from pysal) (2.8.0)\n",
      "Requirement already satisfied: scipy>=0.11 in /home/cristopher/snap/jupyter/common/lib/python3.7/site-packages (from libpysal>=4.2.2->pysal) (1.4.1)\n",
      "Requirement already satisfied: numpy>=1.3 in /home/cristopher/snap/jupyter/common/lib/python3.7/site-packages (from libpysal>=4.2.2->pysal) (1.17.4)\n",
      "Requirement already satisfied: pandas in /home/cristopher/snap/jupyter/common/lib/python3.7/site-packages (from libpysal>=4.2.2->pysal) (1.0.1)\n",
      "Collecting bs4 (from libpysal>=4.2.2->pysal)\n",
      "  Using cached https://files.pythonhosted.org/packages/10/ed/7e8b97591f6f456174139ec089c769f89a94a1a4025fe967691de971f314/bs4-0.0.1.tar.gz\n",
      "Collecting requests (from libpysal>=4.2.2->pysal)\n",
      "  Using cached https://files.pythonhosted.org/packages/1a/70/1935c770cb3be6e3a8b78ced23d7e0f3b187f5cbfab4749523ed65d7c9b1/requests-2.23.0-py2.py3-none-any.whl\n",
      "Requirement already satisfied: jinja2 in /snap/jupyter/6/lib/python3.7/site-packages (from libpysal>=4.2.2->pysal) (2.10.1)\n",
      "Collecting scikit-learn (from esda>=2.2.1->pysal)\n",
      "  Using cached https://files.pythonhosted.org/packages/41/b6/126263db075fbcc79107749f906ec1c7639f69d2d017807c6574792e517e/scikit_learn-0.22.2.post1-cp37-cp37m-manylinux1_x86_64.whl\n",
      "Collecting quantecon (from giddy>=2.3.0->pysal)\n",
      "  Using cached https://files.pythonhosted.org/packages/1d/72/9020b117e30df2b220b1442cc25f7e1438590aaac8ebc9e66f2c6d31e38b/quantecon-0.4.6-py3-none-any.whl\n",
      "Requirement already satisfied: matplotlib in /home/cristopher/snap/jupyter/common/lib/python3.7/site-packages (from pointpats>=2.1.0->pysal) (3.1.3)\n",
      "Requirement already satisfied: geopandas in /home/cristopher/snap/jupyter/common/lib/python3.7/site-packages (from segregation>=1.2.0->pysal) (0.7.0)\n",
      "Collecting tqdm (from segregation>=1.2.0->pysal)\n",
      "  Using cached https://files.pythonhosted.org/packages/47/55/fd9170ba08a1a64a18a7f8a18f088037316f2a41be04d2fe6ece5a653e8f/tqdm-4.43.0-py2.py3-none-any.whl\n",
      "Requirement already satisfied: seaborn in /home/cristopher/snap/jupyter/common/lib/python3.7/site-packages (from segregation>=1.2.0->pysal) (0.10.0)\n",
      "Collecting watermark (from spaghetti>=1.4.1->pysal)\n",
      "  Using cached https://files.pythonhosted.org/packages/60/fe/3ed83b6122e70dce6fe269dfd763103c333f168bf91037add73ea4fe81c2/watermark-2.0.2-py2.py3-none-any.whl\n",
      "Collecting rtree (from spaghetti>=1.4.1->pysal)\n",
      "  Using cached https://files.pythonhosted.org/packages/56/6f/f1e91001d5ad9fa9bed65875152f5a1c7955c5763168cae309546e6e9fda/Rtree-0.9.4.tar.gz\n",
      "\u001b[31m    ERROR: Complete output from command python setup.py egg_info:\u001b[0m\n",
      "\u001b[31m    ERROR: Traceback (most recent call last):\n",
      "      File \"<string>\", line 1, in <module>\n",
      "      File \"/tmp/pip-install-y4yjjua4/rtree/setup.py\", line 3, in <module>\n",
      "        import rtree\n",
      "      File \"/tmp/pip-install-y4yjjua4/rtree/rtree/__init__.py\", line 1, in <module>\n",
      "        from .index import Rtree\n",
      "      File \"/tmp/pip-install-y4yjjua4/rtree/rtree/index.py\", line 6, in <module>\n",
      "        from . import core\n",
      "      File \"/tmp/pip-install-y4yjjua4/rtree/rtree/core.py\", line 143, in <module>\n",
      "        rt.Error_GetLastErrorNum.restype = ctypes.c_int\n",
      "      File \"/snap/jupyter/6/lib/python3.7/ctypes/__init__.py\", line 369, in __getattr__\n",
      "        func = self.__getitem__(name)\n",
      "      File \"/snap/jupyter/6/lib/python3.7/ctypes/__init__.py\", line 374, in __getitem__\n",
      "        func = self._FuncPtr((name_or_ordinal, self))\n",
      "    AttributeError: /snap/jupyter/6/bin/python: undefined symbol: Error_GetLastErrorNum\n",
      "    ----------------------------------------\u001b[0m\n",
      "\u001b[31mERROR: Command \"python setup.py egg_info\" failed with error code 1 in /tmp/pip-install-y4yjjua4/rtree/\u001b[0m\n",
      "Note: you may need to restart the kernel to use updated packages.\n"
     ]
    }
   ],
   "source": [
    "pip install pysal"
   ]
  },
  {
   "cell_type": "code",
   "execution_count": 3,
   "metadata": {},
   "outputs": [
    {
     "ename": "ModuleNotFoundError",
     "evalue": "No module named 'pysal'",
     "output_type": "error",
     "traceback": [
      "\u001b[0;31m---------------------------------------------------------------------------\u001b[0m",
      "\u001b[0;31mModuleNotFoundError\u001b[0m                       Traceback (most recent call last)",
      "\u001b[0;32m<ipython-input-3-3a0b53f8a2d2>\u001b[0m in \u001b[0;36m<module>\u001b[0;34m\u001b[0m\n\u001b[1;32m      3\u001b[0m \u001b[0;32mimport\u001b[0m \u001b[0mmatplotlib\u001b[0m\u001b[0;34m.\u001b[0m\u001b[0mpyplot\u001b[0m \u001b[0;32mas\u001b[0m \u001b[0mplt\u001b[0m\u001b[0;34m\u001b[0m\u001b[0;34m\u001b[0m\u001b[0m\n\u001b[1;32m      4\u001b[0m \u001b[0;32mimport\u001b[0m \u001b[0mgeopandas\u001b[0m \u001b[0;32mas\u001b[0m \u001b[0mgpd\u001b[0m\u001b[0;34m\u001b[0m\u001b[0;34m\u001b[0m\u001b[0m\n\u001b[0;32m----> 5\u001b[0;31m \u001b[0;32mimport\u001b[0m \u001b[0mpysal\u001b[0m \u001b[0;32mas\u001b[0m \u001b[0mps\u001b[0m\u001b[0;34m\u001b[0m\u001b[0;34m\u001b[0m\u001b[0m\n\u001b[0m\u001b[1;32m      6\u001b[0m \u001b[0;32mimport\u001b[0m \u001b[0mpysal\u001b[0m\u001b[0;34m.\u001b[0m\u001b[0mcontrib\u001b[0m\u001b[0;34m.\u001b[0m\u001b[0mviz\u001b[0m\u001b[0;34m\u001b[0m\u001b[0;34m\u001b[0m\u001b[0m\n\u001b[1;32m      7\u001b[0m \u001b[0;32mimport\u001b[0m \u001b[0mmapping\u001b[0m \u001b[0;32mas\u001b[0m \u001b[0mmaps\u001b[0m\u001b[0;34m\u001b[0m\u001b[0;34m\u001b[0m\u001b[0m\n",
      "\u001b[0;31mModuleNotFoundError\u001b[0m: No module named 'pysal'"
     ]
    }
   ],
   "source": [
    "%matplotlib inline\n",
    "\n",
    "import matplotlib.pyplot as plt\n",
    "import geopandas as gpd\n",
    "import pysal as ps\n",
    "import pysal.contrib.viz \n",
    "import mapping as maps\n"
   ]
  },
  {
   "cell_type": "code",
   "execution_count": null,
   "metadata": {},
   "outputs": [],
   "source": []
  }
 ],
 "metadata": {
  "kernelspec": {
   "display_name": "Python 3",
   "language": "python",
   "name": "python3"
  },
  "language_info": {
   "codemirror_mode": {
    "name": "ipython",
    "version": 3
   },
   "file_extension": ".py",
   "mimetype": "text/x-python",
   "name": "python",
   "nbconvert_exporter": "python",
   "pygments_lexer": "ipython3",
   "version": "3.7.3"
  }
 },
 "nbformat": 4,
 "nbformat_minor": 2
}
